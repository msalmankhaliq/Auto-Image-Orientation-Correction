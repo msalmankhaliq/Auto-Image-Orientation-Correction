{
 "cells": [
  {
   "cell_type": "code",
   "execution_count": 1,
   "metadata": {},
   "outputs": [
    {
     "name": "stderr",
     "output_type": "stream",
     "text": [
      "Using TensorFlow backend.\n"
     ]
    }
   ],
   "source": [
    "# import the necessary packages\n",
    "from keras.applications import VGG16\n",
    "from keras.applications import imagenet_utils\n",
    "from keras.preprocessing.image import img_to_array\n",
    "from keras.preprocessing.image import load_img\n",
    "from sklearn.preprocessing import LabelEncoder\n",
    "from HDF5file import HDF5DatasetWriter\n",
    "from imutils import paths\n",
    "import numpy as np\n",
    "import progressbar\n",
    "import argparse\n",
    "import random\n",
    "import os"
   ]
  },
  {
   "cell_type": "code",
   "execution_count": 4,
   "metadata": {},
   "outputs": [],
   "source": [
    "dataset = \"Rotated/\" #add your generated datset path here\n",
    "output = \"HDF5file\"\n",
    "batch_size = 32\n",
    "buffer_size = 1000"
   ]
  },
  {
   "cell_type": "code",
   "execution_count": 5,
   "metadata": {},
   "outputs": [
    {
     "name": "stdout",
     "output_type": "stream",
     "text": [
      "[INFO] loading images...\n"
     ]
    }
   ],
   "source": [
    "# grab the list of images that we'll be describing then randomly\n",
    "# shuffle them to allow for easy training and testing splits via\n",
    "# array slicing during training time\n",
    "print(\"[INFO] loading images...\")\n",
    "imagePaths = list(paths.list_images(dataset))\n",
    "random.shuffle(imagePaths)"
   ]
  },
  {
   "cell_type": "code",
   "execution_count": 6,
   "metadata": {},
   "outputs": [],
   "source": [
    "# extract the class labels from the image paths then encode the\n",
    "# labels\n",
    "labels = [p.split(os.path.sep)[-2] for p in imagePaths]\n",
    "le = LabelEncoder()\n",
    "labels = le.fit_transform(labels)"
   ]
  },
  {
   "cell_type": "code",
   "execution_count": 7,
   "metadata": {},
   "outputs": [
    {
     "name": "stdout",
     "output_type": "stream",
     "text": [
      "[INFO] loading network...\n"
     ]
    }
   ],
   "source": [
    "# load the VGG16 network\n",
    "print(\"[INFO] loading network...\")\n",
    "model = VGG16(weights=\"imagenet\", include_top=False)"
   ]
  },
  {
   "cell_type": "code",
   "execution_count": 9,
   "metadata": {},
   "outputs": [],
   "source": [
    "# initialize the HDF5 dataset writer, then store the class label\n",
    "# names in the dataset\n",
    "dataset = HDF5DatasetWriter((len(imagePaths), 512 * 7 * 7),\n",
    "\toutput, dataKey=\"features\", bufSize=buffer_size)\n",
    "dataset.storeClassLabels(le.classes_)"
   ]
  },
  {
   "cell_type": "code",
   "execution_count": 10,
   "metadata": {},
   "outputs": [
    {
     "name": "stderr",
     "output_type": "stream",
     "text": [
      "Extracting Features:   0% |                                    | ETA:  --:--:--\r"
     ]
    }
   ],
   "source": [
    "# initialize the progress bar\n",
    "widgets = [\"Extracting Features: \", progressbar.Percentage(), \" \",\n",
    "\tprogressbar.Bar(), \" \", progressbar.ETA()]\n",
    "pbar = progressbar.ProgressBar(maxval=len(imagePaths),\n",
    "\twidgets=widgets).start()"
   ]
  },
  {
   "cell_type": "code",
   "execution_count": 11,
   "metadata": {},
   "outputs": [
    {
     "name": "stderr",
     "output_type": "stream",
     "text": [
      "Extracting Features: 100% |#####################################| Time: 1:15:05\n"
     ]
    }
   ],
   "source": [
    "bs = batch_size\n",
    "# loop over the images in patches\n",
    "for i in np.arange(0, len(imagePaths), bs):\n",
    "\t# extract the batch of images and labels, then initialize the\n",
    "\t# list of actual images that will be passed through the network\n",
    "\t# for feature extraction\n",
    "\tbatchPaths = imagePaths[i:i + bs]\n",
    "\tbatchLabels = labels[i:i + bs]\n",
    "\tbatchImages = []\n",
    "\n",
    "\t# loop over the images and labels in the current batch\n",
    "\tfor (j, imagePath) in enumerate(batchPaths):\n",
    "\t\t# load the input image using the Keras helper utility\n",
    "\t\t# while ensuring the image is resized to 224x224 pixels\n",
    "\t\timage = load_img(imagePath, target_size=(224, 224))\n",
    "\t\timage = img_to_array(image)\n",
    "\n",
    "\t\t# preprocess the image by (1) expanding the dimensions and\n",
    "\t\t# (2) subtracting the mean RGB pixel intensity from the\n",
    "\t\t# ImageNet dataset\n",
    "\t\timage = np.expand_dims(image, axis=0)\n",
    "\t\timage = imagenet_utils.preprocess_input(image)\n",
    "\n",
    "\t\t# add the image to the batch\n",
    "\t\tbatchImages.append(image)\n",
    "\n",
    "\t# pass the images through the network and use the outputs as\n",
    "\t# our actual features\n",
    "\tbatchImages = np.vstack(batchImages)\n",
    "\tfeatures = model.predict(batchImages, batch_size=bs)\n",
    "\n",
    "\t# reshape the features so that each image is represented by\n",
    "\t# a flattened feature vector of the `MaxPooling2D` outputs\n",
    "\tfeatures = features.reshape((features.shape[0], 512 * 7 * 7))\n",
    "\n",
    "\t# add the features and labels to our HDF5 dataset\n",
    "\tdataset.add(features, batchLabels)\n",
    "\tpbar.update(i)\n",
    "\n",
    "# close the dataset\n",
    "dataset.close()\n",
    "pbar.finish()"
   ]
  },
  {
   "cell_type": "code",
   "execution_count": null,
   "metadata": {},
   "outputs": [],
   "source": []
  }
 ],
 "metadata": {
  "kernelspec": {
   "display_name": "Python 3",
   "language": "python",
   "name": "python3"
  },
  "language_info": {
   "codemirror_mode": {
    "name": "ipython",
    "version": 3
   },
   "file_extension": ".py",
   "mimetype": "text/x-python",
   "name": "python",
   "nbconvert_exporter": "python",
   "pygments_lexer": "ipython3",
   "version": "3.7.4"
  }
 },
 "nbformat": 4,
 "nbformat_minor": 4
}
