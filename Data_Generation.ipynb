{
 "cells": [
  {
   "cell_type": "code",
   "execution_count": 33,
   "metadata": {},
   "outputs": [],
   "source": [
    "from imutils import paths\n",
    "#!pip install progressbar\n",
    "import numpy as np\n",
    "import progressbar\n",
    "import argparse\n",
    "import imutils\n",
    "import random\n",
    "import cv2\n",
    "import os"
   ]
  },
  {
   "cell_type": "code",
   "execution_count": 34,
   "metadata": {},
   "outputs": [],
   "source": [
    "dataset = \"test/\"\n",
    "output = \"test_rotated/\""
   ]
  },
  {
   "cell_type": "code",
   "execution_count": 35,
   "metadata": {},
   "outputs": [],
   "source": [
    "# grab the paths to the input images (limiting ourselves to 10,000\n",
    "# images) and shuffle them to make creating a training and testing\n",
    "# split easier\n",
    "imagePaths = list(paths.list_images(dataset))\n",
    "random.shuffle(imagePaths)\n"
   ]
  },
  {
   "cell_type": "code",
   "execution_count": 36,
   "metadata": {},
   "outputs": [
    {
     "name": "stderr",
     "output_type": "stream",
     "text": [
      "Building Dataset:   0% |                                       | ETA:  --:--:--\r"
     ]
    }
   ],
   "source": [
    "# initialize a dictionary to keep track of the number of each angle\n",
    "# chosen so far, then initialize the progress bar\n",
    "angles = {}\n",
    "widgets = [\"Building Dataset: \", progressbar.Percentage(), \" \",\n",
    "\tprogressbar.Bar(), \" \", progressbar.ETA()]\n",
    "pbar = progressbar.ProgressBar(maxval=len(imagePaths),\n",
    "\twidgets=widgets).start()"
   ]
  },
  {
   "cell_type": "code",
   "execution_count": 37,
   "metadata": {},
   "outputs": [
    {
     "name": "stderr",
     "output_type": "stream",
     "text": [
      "Building Dataset: 100% |########################################| Time: 0:02:50\n"
     ]
    }
   ],
   "source": [
    "# loop over the image paths\n",
    "for (i, imagePath) in enumerate(imagePaths):\n",
    "\t# determine the rotation angle, and load the image\n",
    "\t#angle = np.random.choice([0, 90, 180, 270])\n",
    "\timage = cv2.imread(imagePath)\n",
    "\timage = imutils.resize(image, width = 500)\n",
    "    \n",
    "\n",
    "\t# if the image is None (meaning there was an issue loading the\n",
    "\t# image from disk, simply skip it)\n",
    "\tif image is None:\n",
    "\t\tcontinue\n",
    "\n",
    "\t# rotate the image based on the selected angle, then construct\n",
    "\t# the path to the base output directory\n",
    "\timage = imutils.rotate_bound(image, angle)\n",
    "\t#base = os.path.sep.join([output, str(angle)])\n",
    "\n",
    "\t# if the base path does not exist already, create it\n",
    "\t#if not os.path.exists(base):\n",
    "\t\t#os.makedirs(base)\n",
    "\n",
    "\t# extract the image file extension, then construct the full path\n",
    "\t# to the output file\n",
    "\t#ext = imagePath[imagePath.rfind(\".\"):]\n",
    "\t#outputPath = [output, \"image_{}{}\".format(\n",
    "\t\t#str(angles.get(angle, 0)).zfill(5), ext)]\n",
    "\t#outputPath = os.path.sep.join(outputPath)\n",
    "\n",
    "\t# save the image\n",
    "\tcv2.imwrite(\"test_rotated/img%04i.jpg\" %i, image)\n",
    "\n",
    "\t# update the count for the angle\n",
    "\t#c = angles.get(angle, 0)\n",
    "\t#angles[angle] = c + 1\n",
    "\tpbar.update(i)\n",
    "\n",
    "# finish the progress bar\n",
    "pbar.finish()"
   ]
  },
  {
   "cell_type": "code",
   "execution_count": 32,
   "metadata": {},
   "outputs": [
    {
     "name": "stdout",
     "output_type": "stream",
     "text": [
      "[INFO] angle=0: 11\n",
      "[INFO] angle=90: 6\n",
      "[INFO] angle=180: 3\n",
      "[INFO] angle=270: 6\n"
     ]
    }
   ],
   "source": [
    "# loop over the angles and display counts for each of them\n",
    "for angle in sorted(angles.keys()):\n",
    "\tprint(\"[INFO] angle={}: {:,}\".format(angle, angles[angle]))"
   ]
  },
  {
   "cell_type": "code",
   "execution_count": null,
   "metadata": {},
   "outputs": [],
   "source": []
  }
 ],
 "metadata": {
  "kernelspec": {
   "display_name": "Python 3",
   "language": "python",
   "name": "python3"
  },
  "language_info": {
   "codemirror_mode": {
    "name": "ipython",
    "version": 3
   },
   "file_extension": ".py",
   "mimetype": "text/x-python",
   "name": "python",
   "nbconvert_exporter": "python",
   "pygments_lexer": "ipython3",
   "version": "3.7.4"
  }
 },
 "nbformat": 4,
 "nbformat_minor": 4
}
